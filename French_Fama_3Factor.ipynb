{
 "cells": [
  {
   "cell_type": "markdown",
   "metadata": {},
   "source": [
    "## Making necessary imports"
   ]
  },
  {
   "cell_type": "code",
   "execution_count": 2,
   "metadata": {
    "scrolled": true
   },
   "outputs": [
    {
     "name": "stderr",
     "output_type": "stream",
     "text": [
      "/anaconda3/lib/python3.6/site-packages/sklearn/cross_validation.py:41: DeprecationWarning: This module was deprecated in version 0.18 in favor of the model_selection module into which all the refactored classes and functions are moved. Also note that the interface of the new CV iterators are different from that of this module. This module will be removed in 0.20.\n",
      "  \"This module will be removed in 0.20.\", DeprecationWarning)\n"
     ]
    }
   ],
   "source": [
    "from pandas_datareader.famafrench import get_available_datasets\n",
    "import pandas_datareader.data as web\n",
    "import pandas as pd\n",
    "import numpy as np\n",
    "from sklearn.metrics import mean_squared_error\n",
    "from sklearn.metrics import mean_absolute_error\n",
    "from sklearn import linear_model\n",
    "from sklearn.neighbors import KNeighborsRegressor\n",
    "from sklearn.cross_validation import train_test_split  \n",
    "from sklearn.utils import check_array\n",
    "from sklearn.ensemble import RandomForestRegressor\n",
    "import quandl\n",
    "import requests, zipfile,io\n",
    "from sklearn.metrics import r2_score"
   ]
  },
  {
   "cell_type": "markdown",
   "metadata": {},
   "source": [
    "### Urls for fetching the fama french data\n",
    "#### ff3 is the 3 variable model"
   ]
  },
  {
   "cell_type": "code",
   "execution_count": 3,
   "metadata": {
    "collapsed": true
   },
   "outputs": [],
   "source": [
    "url_ff3=\"http://mba.tuck.dartmouth.edu/pages/faculty/ken.french/ftp/F-F_Research_Data_Factors_CSV.zip\"\n",
    "url_ff3_daily=\"http://mba.tuck.dartmouth.edu/pages/faculty/ken.french/ftp/F-F_Research_Data_Factors_daily_CSV.zip\""
   ]
  },
  {
   "cell_type": "markdown",
   "metadata": {},
   "source": [
    "### Function to fetch the data"
   ]
  },
  {
   "cell_type": "code",
   "execution_count": 4,
   "metadata": {
    "collapsed": true
   },
   "outputs": [],
   "source": [
    "def fetchingfamadata(url,name_of_csv,no_of_skiprows,no_of_skipfooter):\n",
    "    r=requests.get(url,stream=True)\n",
    "    z=zipfile.ZipFile(io.BytesIO(r.content))\n",
    "    x=z.extractall()\n",
    "    df=pd.read_csv(name_of_csv,error_bad_lines=False,skiprows=no_of_skiprows,skipfooter=no_of_skipfooter)\n",
    "    return df\n"
   ]
  },
  {
   "cell_type": "markdown",
   "metadata": {},
   "source": [
    "### Downloading the FAMA Factor 3 model data for daily and monthly intervals"
   ]
  },
  {
   "cell_type": "code",
   "execution_count": 5,
   "metadata": {},
   "outputs": [
    {
     "name": "stderr",
     "output_type": "stream",
     "text": [
      "/anaconda3/lib/python3.6/site-packages/ipykernel_launcher.py:5: ParserWarning: Falling back to the 'python' engine because the 'c' engine does not support skipfooter; you can avoid this warning by specifying engine='python'.\n",
      "  \"\"\"\n"
     ]
    }
   ],
   "source": [
    "### Fetching the FAMA 3 Factor model data with monthly frequency\n",
    "ff3=fetchingfamadata(url_ff3,'F-F_Research_Data_Factors.csv',2,1)\n",
    "\n",
    "### Fetching the FAMA 3 Factor model data with daily frequency\n",
    "ff3_daily=fetchingfamadata(url_ff3,'F-F_Research_Data_Factors_daily.csv',3,1)\n"
   ]
  },
  {
   "cell_type": "code",
   "execution_count": 6,
   "metadata": {},
   "outputs": [
    {
     "data": {
      "text/html": [
       "<div>\n",
       "<style>\n",
       "    .dataframe thead tr:only-child th {\n",
       "        text-align: right;\n",
       "    }\n",
       "\n",
       "    .dataframe thead th {\n",
       "        text-align: left;\n",
       "    }\n",
       "\n",
       "    .dataframe tbody tr th {\n",
       "        vertical-align: top;\n",
       "    }\n",
       "</style>\n",
       "<table border=\"1\" class=\"dataframe\">\n",
       "  <thead>\n",
       "    <tr style=\"text-align: right;\">\n",
       "      <th></th>\n",
       "      <th>Unnamed: 0</th>\n",
       "      <th>Mkt-RF</th>\n",
       "      <th>SMB</th>\n",
       "      <th>HML</th>\n",
       "      <th>RF</th>\n",
       "    </tr>\n",
       "  </thead>\n",
       "  <tbody>\n",
       "    <tr>\n",
       "      <th>0</th>\n",
       "      <td>192607</td>\n",
       "      <td>2.96</td>\n",
       "      <td>-2.30</td>\n",
       "      <td>-2.87</td>\n",
       "      <td>0.22</td>\n",
       "    </tr>\n",
       "    <tr>\n",
       "      <th>1</th>\n",
       "      <td>192608</td>\n",
       "      <td>2.64</td>\n",
       "      <td>-1.40</td>\n",
       "      <td>4.19</td>\n",
       "      <td>0.25</td>\n",
       "    </tr>\n",
       "    <tr>\n",
       "      <th>2</th>\n",
       "      <td>192609</td>\n",
       "      <td>0.36</td>\n",
       "      <td>-1.32</td>\n",
       "      <td>0.01</td>\n",
       "      <td>0.23</td>\n",
       "    </tr>\n",
       "    <tr>\n",
       "      <th>3</th>\n",
       "      <td>192610</td>\n",
       "      <td>-3.24</td>\n",
       "      <td>0.04</td>\n",
       "      <td>0.51</td>\n",
       "      <td>0.32</td>\n",
       "    </tr>\n",
       "    <tr>\n",
       "      <th>4</th>\n",
       "      <td>192611</td>\n",
       "      <td>2.53</td>\n",
       "      <td>-0.20</td>\n",
       "      <td>-0.35</td>\n",
       "      <td>0.31</td>\n",
       "    </tr>\n",
       "  </tbody>\n",
       "</table>\n",
       "</div>"
      ],
      "text/plain": [
       "  Unnamed: 0    Mkt-RF       SMB       HML        RF\n",
       "0     192607      2.96     -2.30     -2.87      0.22\n",
       "1     192608      2.64     -1.40      4.19      0.25\n",
       "2     192609      0.36     -1.32      0.01      0.23\n",
       "3     192610     -3.24      0.04      0.51      0.32\n",
       "4     192611      2.53     -0.20     -0.35      0.31"
      ]
     },
     "execution_count": 6,
     "metadata": {},
     "output_type": "execute_result"
    }
   ],
   "source": [
    "ff3.head()"
   ]
  },
  {
   "cell_type": "code",
   "execution_count": 7,
   "metadata": {},
   "outputs": [
    {
     "data": {
      "text/html": [
       "<div>\n",
       "<style>\n",
       "    .dataframe thead tr:only-child th {\n",
       "        text-align: right;\n",
       "    }\n",
       "\n",
       "    .dataframe thead th {\n",
       "        text-align: left;\n",
       "    }\n",
       "\n",
       "    .dataframe tbody tr th {\n",
       "        vertical-align: top;\n",
       "    }\n",
       "</style>\n",
       "<table border=\"1\" class=\"dataframe\">\n",
       "  <thead>\n",
       "    <tr style=\"text-align: right;\">\n",
       "      <th></th>\n",
       "      <th>Unnamed: 0</th>\n",
       "      <th>Mkt-RF</th>\n",
       "      <th>SMB</th>\n",
       "      <th>HML</th>\n",
       "      <th>RF</th>\n",
       "    </tr>\n",
       "  </thead>\n",
       "  <tbody>\n",
       "    <tr>\n",
       "      <th>0</th>\n",
       "      <td>19260701</td>\n",
       "      <td>0.10</td>\n",
       "      <td>-0.24</td>\n",
       "      <td>-0.28</td>\n",
       "      <td>0.009</td>\n",
       "    </tr>\n",
       "    <tr>\n",
       "      <th>1</th>\n",
       "      <td>19260702</td>\n",
       "      <td>0.45</td>\n",
       "      <td>-0.32</td>\n",
       "      <td>-0.08</td>\n",
       "      <td>0.009</td>\n",
       "    </tr>\n",
       "    <tr>\n",
       "      <th>2</th>\n",
       "      <td>19260706</td>\n",
       "      <td>0.17</td>\n",
       "      <td>0.27</td>\n",
       "      <td>-0.35</td>\n",
       "      <td>0.009</td>\n",
       "    </tr>\n",
       "    <tr>\n",
       "      <th>3</th>\n",
       "      <td>19260707</td>\n",
       "      <td>0.09</td>\n",
       "      <td>-0.59</td>\n",
       "      <td>0.03</td>\n",
       "      <td>0.009</td>\n",
       "    </tr>\n",
       "    <tr>\n",
       "      <th>4</th>\n",
       "      <td>19260708</td>\n",
       "      <td>0.21</td>\n",
       "      <td>-0.36</td>\n",
       "      <td>0.15</td>\n",
       "      <td>0.009</td>\n",
       "    </tr>\n",
       "  </tbody>\n",
       "</table>\n",
       "</div>"
      ],
      "text/plain": [
       "   Unnamed: 0  Mkt-RF   SMB   HML     RF\n",
       "0    19260701    0.10 -0.24 -0.28  0.009\n",
       "1    19260702    0.45 -0.32 -0.08  0.009\n",
       "2    19260706    0.17  0.27 -0.35  0.009\n",
       "3    19260707    0.09 -0.59  0.03  0.009\n",
       "4    19260708    0.21 -0.36  0.15  0.009"
      ]
     },
     "execution_count": 7,
     "metadata": {},
     "output_type": "execute_result"
    }
   ],
   "source": [
    "ff3_daily.head()"
   ]
  },
  {
   "cell_type": "markdown",
   "metadata": {},
   "source": [
    "### Function to remove unnecessary rows in the monthly FAMA data"
   ]
  },
  {
   "cell_type": "code",
   "execution_count": 8,
   "metadata": {
    "collapsed": true
   },
   "outputs": [],
   "source": [
    "def cleanfamamonthly(df):\n",
    "    ind=(df.index[df['Unnamed: 0']==' Annual Factors: January-December ']).tolist()\n",
    "    df=df.head(ind[0])\n",
    "    return df"
   ]
  },
  {
   "cell_type": "code",
   "execution_count": 9,
   "metadata": {
    "collapsed": true
   },
   "outputs": [],
   "source": [
    "ff3=cleanfamamonthly(ff3)"
   ]
  },
  {
   "cell_type": "markdown",
   "metadata": {},
   "source": [
    "### Extracting the year and month column to be used for merging the data later"
   ]
  },
  {
   "cell_type": "code",
   "execution_count": 10,
   "metadata": {
    "collapsed": true
   },
   "outputs": [],
   "source": [
    "def extract_month_year_day(df):\n",
    "    flag=0\n",
    "    if (int(df['Unnamed: 0'].max())>999999):\n",
    "        flag=1\n",
    "    df['Unnamed: 0']=df['Unnamed: 0'].astype('str')\n",
    "    df['Year'] = df['Unnamed: 0'].apply(lambda x: x[0:4])\n",
    "    df['Month'] = df['Unnamed: 0'].apply(lambda x: x[4:6]) \n",
    "    if flag==1:\n",
    "        df['Day'] = df['Unnamed: 0'].apply(lambda x: x[6:])\n",
    "    return df\n",
    "\n",
    "ff3=extract_month_year_day(ff3)\n",
    "\n",
    "ff3_daily=extract_month_year_day(ff3_daily)\n"
   ]
  },
  {
   "cell_type": "code",
   "execution_count": 11,
   "metadata": {
    "scrolled": true
   },
   "outputs": [
    {
     "data": {
      "text/html": [
       "<div>\n",
       "<style>\n",
       "    .dataframe thead tr:only-child th {\n",
       "        text-align: right;\n",
       "    }\n",
       "\n",
       "    .dataframe thead th {\n",
       "        text-align: left;\n",
       "    }\n",
       "\n",
       "    .dataframe tbody tr th {\n",
       "        vertical-align: top;\n",
       "    }\n",
       "</style>\n",
       "<table border=\"1\" class=\"dataframe\">\n",
       "  <thead>\n",
       "    <tr style=\"text-align: right;\">\n",
       "      <th></th>\n",
       "      <th>Unnamed: 0</th>\n",
       "      <th>Mkt-RF</th>\n",
       "      <th>SMB</th>\n",
       "      <th>HML</th>\n",
       "      <th>RF</th>\n",
       "      <th>Year</th>\n",
       "      <th>Month</th>\n",
       "    </tr>\n",
       "  </thead>\n",
       "  <tbody>\n",
       "    <tr>\n",
       "      <th>0</th>\n",
       "      <td>192607</td>\n",
       "      <td>2.96</td>\n",
       "      <td>-2.30</td>\n",
       "      <td>-2.87</td>\n",
       "      <td>0.22</td>\n",
       "      <td>1926</td>\n",
       "      <td>07</td>\n",
       "    </tr>\n",
       "    <tr>\n",
       "      <th>1</th>\n",
       "      <td>192608</td>\n",
       "      <td>2.64</td>\n",
       "      <td>-1.40</td>\n",
       "      <td>4.19</td>\n",
       "      <td>0.25</td>\n",
       "      <td>1926</td>\n",
       "      <td>08</td>\n",
       "    </tr>\n",
       "    <tr>\n",
       "      <th>2</th>\n",
       "      <td>192609</td>\n",
       "      <td>0.36</td>\n",
       "      <td>-1.32</td>\n",
       "      <td>0.01</td>\n",
       "      <td>0.23</td>\n",
       "      <td>1926</td>\n",
       "      <td>09</td>\n",
       "    </tr>\n",
       "    <tr>\n",
       "      <th>3</th>\n",
       "      <td>192610</td>\n",
       "      <td>-3.24</td>\n",
       "      <td>0.04</td>\n",
       "      <td>0.51</td>\n",
       "      <td>0.32</td>\n",
       "      <td>1926</td>\n",
       "      <td>10</td>\n",
       "    </tr>\n",
       "    <tr>\n",
       "      <th>4</th>\n",
       "      <td>192611</td>\n",
       "      <td>2.53</td>\n",
       "      <td>-0.20</td>\n",
       "      <td>-0.35</td>\n",
       "      <td>0.31</td>\n",
       "      <td>1926</td>\n",
       "      <td>11</td>\n",
       "    </tr>\n",
       "  </tbody>\n",
       "</table>\n",
       "</div>"
      ],
      "text/plain": [
       "  Unnamed: 0    Mkt-RF       SMB       HML        RF  Year Month\n",
       "0     192607      2.96     -2.30     -2.87      0.22  1926    07\n",
       "1     192608      2.64     -1.40      4.19      0.25  1926    08\n",
       "2     192609      0.36     -1.32      0.01      0.23  1926    09\n",
       "3     192610     -3.24      0.04      0.51      0.32  1926    10\n",
       "4     192611      2.53     -0.20     -0.35      0.31  1926    11"
      ]
     },
     "execution_count": 11,
     "metadata": {},
     "output_type": "execute_result"
    }
   ],
   "source": [
    "ff3.head()"
   ]
  },
  {
   "cell_type": "code",
   "execution_count": 12,
   "metadata": {},
   "outputs": [
    {
     "data": {
      "text/html": [
       "<div>\n",
       "<style>\n",
       "    .dataframe thead tr:only-child th {\n",
       "        text-align: right;\n",
       "    }\n",
       "\n",
       "    .dataframe thead th {\n",
       "        text-align: left;\n",
       "    }\n",
       "\n",
       "    .dataframe tbody tr th {\n",
       "        vertical-align: top;\n",
       "    }\n",
       "</style>\n",
       "<table border=\"1\" class=\"dataframe\">\n",
       "  <thead>\n",
       "    <tr style=\"text-align: right;\">\n",
       "      <th></th>\n",
       "      <th>Unnamed: 0</th>\n",
       "      <th>Mkt-RF</th>\n",
       "      <th>SMB</th>\n",
       "      <th>HML</th>\n",
       "      <th>RF</th>\n",
       "      <th>Year</th>\n",
       "      <th>Month</th>\n",
       "      <th>Day</th>\n",
       "    </tr>\n",
       "  </thead>\n",
       "  <tbody>\n",
       "    <tr>\n",
       "      <th>0</th>\n",
       "      <td>19260701</td>\n",
       "      <td>0.10</td>\n",
       "      <td>-0.24</td>\n",
       "      <td>-0.28</td>\n",
       "      <td>0.009</td>\n",
       "      <td>1926</td>\n",
       "      <td>07</td>\n",
       "      <td>01</td>\n",
       "    </tr>\n",
       "    <tr>\n",
       "      <th>1</th>\n",
       "      <td>19260702</td>\n",
       "      <td>0.45</td>\n",
       "      <td>-0.32</td>\n",
       "      <td>-0.08</td>\n",
       "      <td>0.009</td>\n",
       "      <td>1926</td>\n",
       "      <td>07</td>\n",
       "      <td>02</td>\n",
       "    </tr>\n",
       "    <tr>\n",
       "      <th>2</th>\n",
       "      <td>19260706</td>\n",
       "      <td>0.17</td>\n",
       "      <td>0.27</td>\n",
       "      <td>-0.35</td>\n",
       "      <td>0.009</td>\n",
       "      <td>1926</td>\n",
       "      <td>07</td>\n",
       "      <td>06</td>\n",
       "    </tr>\n",
       "    <tr>\n",
       "      <th>3</th>\n",
       "      <td>19260707</td>\n",
       "      <td>0.09</td>\n",
       "      <td>-0.59</td>\n",
       "      <td>0.03</td>\n",
       "      <td>0.009</td>\n",
       "      <td>1926</td>\n",
       "      <td>07</td>\n",
       "      <td>07</td>\n",
       "    </tr>\n",
       "    <tr>\n",
       "      <th>4</th>\n",
       "      <td>19260708</td>\n",
       "      <td>0.21</td>\n",
       "      <td>-0.36</td>\n",
       "      <td>0.15</td>\n",
       "      <td>0.009</td>\n",
       "      <td>1926</td>\n",
       "      <td>07</td>\n",
       "      <td>08</td>\n",
       "    </tr>\n",
       "  </tbody>\n",
       "</table>\n",
       "</div>"
      ],
      "text/plain": [
       "  Unnamed: 0  Mkt-RF   SMB   HML     RF  Year Month Day\n",
       "0   19260701    0.10 -0.24 -0.28  0.009  1926    07  01\n",
       "1   19260702    0.45 -0.32 -0.08  0.009  1926    07  02\n",
       "2   19260706    0.17  0.27 -0.35  0.009  1926    07  06\n",
       "3   19260707    0.09 -0.59  0.03  0.009  1926    07  07\n",
       "4   19260708    0.21 -0.36  0.15  0.009  1926    07  08"
      ]
     },
     "execution_count": 12,
     "metadata": {},
     "output_type": "execute_result"
    }
   ],
   "source": [
    "ff3_daily.head()"
   ]
  },
  {
   "cell_type": "markdown",
   "metadata": {},
   "source": [
    "### Fetching the stocks data"
   ]
  },
  {
   "cell_type": "code",
   "execution_count": 13,
   "metadata": {},
   "outputs": [
    {
     "name": "stdout",
     "output_type": "stream",
     "text": [
      "_PpK5yM-XqckUuWnUoHp\n"
     ]
    }
   ],
   "source": [
    "api_key=input()"
   ]
  },
  {
   "cell_type": "code",
   "execution_count": 14,
   "metadata": {
    "collapsed": true
   },
   "outputs": [],
   "source": [
    "quandl.ApiConfig.api_key=api_key"
   ]
  },
  {
   "cell_type": "markdown",
   "metadata": {},
   "source": [
    "### Function to calculate the MAPE value"
   ]
  },
  {
   "cell_type": "code",
   "execution_count": 15,
   "metadata": {
    "collapsed": true
   },
   "outputs": [],
   "source": [
    "def mean_absolute_percentage_error(y_test,x_predict):\n",
    "    np.seterr(divide='ignore',invalid='ignore')\n",
    "    y_test,x_predict=np.array(y_test),np.array(x_predict) \n",
    "    return np.mean(np.abs((y_test - x_predict)/y_test))*100\n"
   ]
  },
  {
   "cell_type": "markdown",
   "metadata": {},
   "source": [
    "### Changing the datatypes to float so that it can be used in the model"
   ]
  },
  {
   "cell_type": "code",
   "execution_count": 17,
   "metadata": {
    "collapsed": true
   },
   "outputs": [],
   "source": [
    "def datatypechange(df,nameofcol):\n",
    "    df['RF']=df['RF'].astype('float64')\n",
    "    df['SMB']=df['SMB'].astype('float64')\n",
    "    df['HML']=df['HML'].astype('float64')\n",
    "    df['Mkt-RF']=df['Mkt-RF'].astype('float64')\n",
    "    df['rt']=df[nameofcol]-df['RF']\n",
    "    df=df[['rt','Mkt-RF','HML','SMB']]\n",
    "        \n",
    "    return df\n"
   ]
  },
  {
   "cell_type": "markdown",
   "metadata": {},
   "source": [
    "### List of stocks "
   ]
  },
  {
   "cell_type": "code",
   "execution_count": 18,
   "metadata": {
    "collapsed": true
   },
   "outputs": [],
   "source": [
    "stocklist=[\"WIKI/MMM.11\", \"WIKI/AXP.11\", \"WIKI/AAPL.11\", \"WIKI/BA.11\", \"WIKI/CAT.11\", \"WIKI/CVX.11\", \"WIKI/CSCO.11\", \"WIKI/KO.11\", \"WIKI/DWDP.11\", \"WIKI/DIS.11\", \"WIKI/XOM.11\", \"WIKI/GE.11\", \"WIKI/GS.11\", \"WIKI/HD.11\", \"WIKI/IBM.11\", \"WIKI/INTC.11\", \"WIKI/JNJ.11\", \"WIKI/JPM.11\", \"WIKI/MCD.11\", \"WIKI/MRK.11\", \"WIKI/MSFT.11\", \"WIKI/NKE.11\", \"WIKI/PFE.11\", \"WIKI/PG.11\", \"WIKI/TRV.11\", \"WIKI/UTX.11\", \"WIKI/UNH.11\", \"WIKI/VZ.11\", \"WIKI/V.11\", \"WIKI/WMT.11\"]"
   ]
  },
  {
   "cell_type": "markdown",
   "metadata": {},
   "source": [
    "### Dataframe to store the final results"
   ]
  },
  {
   "cell_type": "code",
   "execution_count": 19,
   "metadata": {
    "collapsed": true
   },
   "outputs": [],
   "source": [
    "final_result=pd.DataFrame(columns=[\"Stock\",\"DataType\",\"Model\",\"Train_R2\",\"Test_R2\",\"Train_MAE\",\"Test_MAE\",\"Train_RMSE\",\"Test_RMSE\",\"Train_MAPE\",\"Test_MAPE\",\"Mkt_RF_coefficient\",\"HML_coefficient\",\"SMB_coefficient\"])"
   ]
  },
  {
   "cell_type": "markdown",
   "metadata": {},
   "source": [
    "### Calculating MAE"
   ]
  },
  {
   "cell_type": "code",
   "execution_count": 20,
   "metadata": {
    "collapsed": true
   },
   "outputs": [],
   "source": [
    "def mae(actual,prediction):\n",
    "    return mean_absolute_error(actual,prediction)"
   ]
  },
  {
   "cell_type": "markdown",
   "metadata": {},
   "source": [
    "### Calculating RMSE"
   ]
  },
  {
   "cell_type": "code",
   "execution_count": 21,
   "metadata": {
    "collapsed": true
   },
   "outputs": [],
   "source": [
    "def rmse(actual,prediction):\n",
    "    return np.sqrt(mean_squared_error(actual,prediction))"
   ]
  },
  {
   "cell_type": "markdown",
   "metadata": {},
   "source": [
    "#### Linear regression model and model performance metrics"
   ]
  },
  {
   "cell_type": "code",
   "execution_count": 22,
   "metadata": {
    "collapsed": true
   },
   "outputs": [],
   "source": [
    "def regression(df):   \n",
    "    \n",
    "    #### Splitting Data into Train and Test\n",
    "    train,test = train_test_split(df, train_size = 0.7)\n",
    "    \n",
    "    #### Separating label from features\n",
    "    y_train = train['rt']\n",
    "    y_test = test['rt']\n",
    "    x_train = train.loc[:, train.columns != 'rt']\n",
    "    x_test = test.loc[:, test.columns != 'rt']\n",
    "    \n",
    "    #### Building model\n",
    "    reg=linear_model.LinearRegression()\n",
    "    reg.fit(x_train,y_train)\n",
    "    \n",
    "    #### Doing predictions on training and test data\n",
    "    predicted_train=reg.predict(x_train)\n",
    "    predicted_test=reg.predict(x_test)\n",
    "    \n",
    "    #### MAE Calculation of model\n",
    "    test_mae=mae(y_test,predicted_test)\n",
    "    train_mae=mae(y_train,predicted_train)\n",
    "    \n",
    "    #### RMSE Calculation of model\n",
    "    test_rmse = rmse(y_test,predicted_test)\n",
    "    train_rmse=rmse(y_train,predicted_train)\n",
    "    \n",
    "    #### R Squared error calculation\n",
    "    test_r2=r2_score(y_test,predicted_test)\n",
    "    train_r2=reg.score(x_train,y_train)\n",
    "    \n",
    "    \n",
    "    #### Calculating MAPE\n",
    "    test_mape = mean_absolute_percentage_error(y_test, predicted_test)\n",
    "    train_mape = mean_absolute_percentage_error(y_train, predicted_train)\n",
    "    \n",
    "    ### Getting coefficients for features \n",
    "    coefficients=reg.coef_\n",
    "    \n",
    "    Mkt_RF_coefficient=coefficients[0]\n",
    "    \n",
    "    HML_coefficient=coefficients[1]\n",
    "    \n",
    "    SMB_coefficient=coefficients[2]\n",
    "    \n",
    "    return train_r2,test_r2,train_mae,test_mae,train_rmse,test_rmse,train_mape,test_mape,Mkt_RF_coefficient,HML_coefficient,SMB_coefficient\n",
    "    \n"
   ]
  },
  {
   "cell_type": "markdown",
   "metadata": {},
   "source": [
    "### Calculating Yearly monthly and daily columns for the stock data"
   ]
  },
  {
   "cell_type": "code",
   "execution_count": 23,
   "metadata": {
    "collapsed": true
   },
   "outputs": [],
   "source": [
    "def calculate_year_month_day(df):\n",
    "    df.reset_index(inplace=True)\n",
    "    df['Date']=df['Date'].astype('str')\n",
    "    s = df['Date'].apply(lambda x: x.split('-'))\n",
    "    df['Year'] = s.apply(lambda x: x[0])\n",
    "    df['Month'] = s.apply(lambda x: x[1])\n",
    "    df['Day'] = s.apply(lambda x: x[2])\n",
    "    return df\n",
    "   "
   ]
  },
  {
   "cell_type": "markdown",
   "metadata": {},
   "source": [
    "### Running the main code"
   ]
  },
  {
   "cell_type": "code",
   "execution_count": 25,
   "metadata": {
    "scrolled": false
   },
   "outputs": [],
   "source": [
    "\n",
    "rownum=1\n",
    "    \n",
    "for i in stocklist:\n",
    "    ### Fetching daily and monthly data\n",
    "    stock_data=quandl.get([i],transform=\"rdiff\",collapse=\"monthly\")\n",
    "    stock_data_daily=quandl.get([i],transform=\"rdiff\",collapse=\"daily\")\n",
    "    \n",
    "    ### Calculating the name of the stock data columns\n",
    "    \n",
    "    nameofcol=i[:-3]+' - Adj. Close'\n",
    "    \n",
    "    \n",
    "    ### Fetching the date column for merging and calculating the day month and year for merging with fama data\n",
    "    stock_data=calculate_year_month_day(stock_data)\n",
    "    stock_data_daily=calculate_year_month_day(stock_data_daily)\n",
    "    \n",
    "    ### Bringing the stock data to the scale of the FAMA Data\n",
    "    stock_data[nameofcol]=stock_data[nameofcol]*100\n",
    "    \n",
    "    \n",
    "    ### Bringing the stock data to the scale of the FAMA Data\n",
    "    stock_data_daily[nameofcol]=stock_data_daily[nameofcol]*100\n",
    "   \n",
    "    ### This is a counter to add result to the dataframe\n",
    "    if rownum>1:\n",
    "        rownum+=1\n",
    "    \n",
    "    \n",
    "    ### merging the monthly stock data with the FAMA 3 factor monthly data\n",
    "    \n",
    "    result_ff3=stock_data.merge(ff3,how=\"inner\",left_on=[\"Year\",\"Month\"],right_on=[\"Year\",\"Month\"])\n",
    "    result_ff3=datatypechange(result_ff3,nameofcol)\n",
    "    \n",
    "    ### Creating the monthly data model and adding the inputs to the result dataset\n",
    "    train_r2,test_r2,train_mae,test_mae,train_rmse,test_rmse,train_mape,test_mape,Mkt_RF_coefficient,HML_coefficient,SMB_coefficient=regression(result_ff3)\n",
    "    final_result.loc[rownum]=[i[5:-3],\"Monthly\",\"3-Factor\",train_r2,test_r2,train_mae,test_mae,train_rmse,test_rmse,train_mape,test_mape,Mkt_RF_coefficient,HML_coefficient,SMB_coefficient]\n",
    "    \n",
    "    \n",
    "    \n",
    "    \n",
    "    \n",
    "    ### merging the monthly stock data with the FAMA 3 factor daily data\n",
    "    \n",
    "    result_ff3_daily=stock_data_daily.merge(ff3_daily,how=\"inner\",left_on=[\"Year\",\"Month\",\"Day\"],right_on=[\"Year\",\"Month\",\"Day\"])\n",
    "    result_ff3_daily=datatypechange(result_ff3_daily,nameofcol)\n",
    "    \n",
    "    ### Creating the daily data model and adding the inputs to the result dataset\n",
    "    \n",
    "    train_r2,test_r2,train_mae,test_mae,train_rmse,test_rmse,train_mape,test_mape,Mkt_RF_coefficient,HML_coefficient,SMB_coefficient=regression(result_ff3_daily)\n",
    "    rownum+=1\n",
    "    final_result.loc[rownum]=[i[5:-3],\"Daily\",\"3-Factor\",train_r2,test_r2,train_mae,test_mae,train_rmse,test_rmse,train_mape,test_mape,Mkt_RF_coefficient,HML_coefficient,SMB_coefficient]\n",
    "    "
   ]
  },
  {
   "cell_type": "code",
   "execution_count": 26,
   "metadata": {},
   "outputs": [
    {
     "name": "stdout",
     "output_type": "stream",
     "text": [
      "   Stock DataType     Model  Train_R2   Test_R2     Train_MAE  Test_MAE  \\\n",
      "1    MMM  Monthly  3-Factor  0.353970  0.429729  3.534166e+00  3.469760   \n",
      "2    MMM    Daily  3-Factor  0.391461  0.440039  7.783516e-01  0.775466   \n",
      "3    AXP  Monthly  3-Factor  0.432492  0.590767  4.472161e+00  4.495657   \n",
      "4    AXP    Daily  3-Factor  0.491321  0.441542  1.117161e+00  1.122284   \n",
      "5   AAPL  Monthly  3-Factor  0.259721  0.265044  8.745882e+00  8.492235   \n",
      "6   AAPL    Daily  3-Factor  0.229497  0.281071  1.708380e+00  1.685444   \n",
      "7     BA  Monthly  3-Factor  0.324869  0.190645  6.030290e+00  5.996897   \n",
      "8     BA    Daily  3-Factor  0.264786  0.240023  1.226242e+00  1.245878   \n",
      "9    CAT  Monthly  3-Factor  0.355174  0.422703  5.213194e+00  4.697579   \n",
      "10   CAT    Daily  3-Factor  0.315387  0.321388  1.065689e+00  1.088051   \n",
      "11   CVX  Monthly  3-Factor  0.259960  0.218893  4.205083e+00  4.347583   \n",
      "12   CVX    Daily  3-Factor  0.287180  0.359693  9.417233e-01  0.971498   \n",
      "13  CSCO  Monthly  3-Factor  0.402801  0.437996  6.792639e+00  5.896477   \n",
      "14  CSCO    Daily  3-Factor  0.396751  0.428737  1.366997e+00  1.360207   \n",
      "15    KO  Monthly  3-Factor  0.287702  0.181178  3.798181e+00  4.190853   \n",
      "16    KO    Daily  3-Factor  0.272487  0.262900  8.509285e-01  0.878017   \n",
      "17  DWDP  Monthly  3-Factor  1.000000  0.000000  6.661338e-16  5.266066   \n",
      "18  DWDP    Daily  3-Factor  0.330257  0.116270  6.849932e-01  0.766588   \n",
      "19   DIS  Monthly  3-Factor  0.247039  0.327957  5.229272e+00  5.777949   \n",
      "20   DIS    Daily  3-Factor  0.254299  0.306080  1.164018e+00  1.093897   \n",
      "21   XOM  Monthly  3-Factor  0.367805  0.269527  2.993317e+00  3.328938   \n",
      "22   XOM    Daily  3-Factor  0.401369  0.419302  7.972146e-01  0.776105   \n",
      "23    GE  Monthly  3-Factor  0.522578  0.628927  3.604146e+00  3.272457   \n",
      "24    GE    Daily  3-Factor  0.537447  0.507226  7.689777e-01  0.788084   \n",
      "25    GS  Monthly  3-Factor  0.500422  0.507999  4.442854e+00  5.864660   \n",
      "26    GS    Daily  3-Factor  0.526485  0.568851  1.058158e+00  1.037910   \n",
      "27    HD  Monthly  3-Factor  0.243066  0.406120  6.002778e+00  5.298742   \n",
      "28    HD    Daily  3-Factor  0.258176  0.270066  1.281307e+00  1.274363   \n",
      "29   IBM  Monthly  3-Factor  0.285729  0.326359  4.154058e+00  4.224232   \n",
      "30   IBM    Daily  3-Factor  0.357456  0.420716  8.288371e-01  0.780026   \n",
      "31  INTC  Monthly  3-Factor  0.380258  0.337380  6.752404e+00  6.411366   \n",
      "32  INTC    Daily  3-Factor  0.358703  0.337683  1.404601e+00  1.384964   \n",
      "33   JNJ  Monthly  3-Factor  0.382724  0.245887  3.544262e+00  3.839827   \n",
      "34   JNJ    Daily  3-Factor  0.347210  0.315960  8.375156e-01  0.846380   \n",
      "35   JPM  Monthly  3-Factor  0.429440  0.459096  4.910513e+00  5.800901   \n",
      "36   JPM    Daily  3-Factor  0.535081  0.573472  1.072802e+00  1.051391   \n",
      "37   MCD  Monthly  3-Factor  0.298180  0.438199  4.409533e+00  4.231349   \n",
      "38   MCD    Daily  3-Factor  0.259468  0.301825  1.019702e+00  1.007324   \n",
      "39   MRK  Monthly  3-Factor  0.318399  0.283510  4.138985e+00  4.948985   \n",
      "40   MRK    Daily  3-Factor  0.304671  0.312811  9.268954e-01  0.926648   \n",
      "41  MSFT  Monthly  3-Factor  0.381057  0.338374  5.793586e+00  5.646317   \n",
      "42  MSFT    Daily  3-Factor  0.423926  0.386340  1.137473e+00  1.113961   \n",
      "43   NKE  Monthly  3-Factor  0.218419  0.091026  6.451106e+00  7.177007   \n",
      "44   NKE    Daily  3-Factor  0.157200  0.194472  1.312694e+00  1.355215   \n",
      "45   PFE  Monthly  3-Factor  0.404542  0.158466  4.396726e+00  4.092656   \n",
      "46   PFE    Daily  3-Factor  0.315444  0.319810  1.039534e+00  1.026541   \n",
      "47    PG  Monthly  3-Factor  0.201857  0.312850  3.586190e+00  3.823702   \n",
      "48    PG    Daily  3-Factor  0.238636  0.369874  8.022772e-01  0.809604   \n",
      "49   TRV  Monthly  3-Factor  0.250765 -0.784828  1.989391e+00  3.384694   \n",
      "50   TRV    Daily  3-Factor  0.163711  0.135720  5.935526e-01  0.561286   \n",
      "51   UTX  Monthly  3-Factor  0.433561  0.493142  4.109916e+00  4.216197   \n",
      "52   UTX    Daily  3-Factor  0.353109  0.348386  9.913608e-01  0.957228   \n",
      "53   UNH  Monthly  3-Factor  0.210087  0.093421  5.724592e+00  6.739294   \n",
      "54   UNH    Daily  3-Factor  0.149004  0.207512  1.398216e+00  1.428713   \n",
      "55    VZ  Monthly  3-Factor  0.224703  0.329828  3.992787e+00  4.252007   \n",
      "56    VZ    Daily  3-Factor  0.310892  0.333282  8.670875e-01  0.899003   \n",
      "57     V  Monthly  3-Factor  0.285605  0.466564  3.656862e+00  3.843659   \n",
      "58     V    Daily  3-Factor  0.392510  0.461401  9.279130e-01  0.915537   \n",
      "59   WMT  Monthly  3-Factor  0.237553  0.156088  5.295755e+00  5.905000   \n",
      "60   WMT    Daily  3-Factor  0.230482  0.224829  1.140617e+00  1.160376   \n",
      "\n",
      "      Train_RMSE  Test_RMSE    Train_MAPE    Test_MAPE  Mkt_RF_coefficient  \\\n",
      "1   4.699147e+00   4.820332  2.236984e+02  4484.594542            0.792358   \n",
      "2   1.112754e+00   1.096166           inf          inf            0.846868   \n",
      "3   6.763457e+00   5.930142  1.482206e+03   252.097763            1.471312   \n",
      "4   1.586988e+00   1.589233           inf          inf            1.467520   \n",
      "5   1.132249e+01  11.701800  1.799875e+02   217.565462            1.286829   \n",
      "6   2.549737e+00   2.478022           inf          inf            1.157844   \n",
      "7   8.182812e+00   7.571764  1.982820e+02   876.894735            1.240304   \n",
      "8   1.725197e+00   1.898190           inf   272.079704            1.075695   \n",
      "9   7.101705e+00   6.023951  2.075862e+02   151.701564            1.257594   \n",
      "10  1.567093e+00   1.550079           inf   251.525480            1.105409   \n",
      "11  6.337141e+00   5.796411  2.293735e+02   245.092387            0.868259   \n",
      "12  1.490198e+00   1.341130           inf          inf            0.880860   \n",
      "13  8.923768e+00   7.273242  1.747276e+02   280.377255            1.527796   \n",
      "14  2.029977e+00   2.062534           inf          inf            1.400054   \n",
      "15  5.435575e+00   6.233228  6.427743e+02   450.017621            0.790052   \n",
      "16  1.309932e+00   1.448994           inf          inf            0.720475   \n",
      "17  7.021667e-16   5.266066  3.004269e-14   933.654813            3.410944   \n",
      "18  8.962353e-01   0.977366  1.624913e+02   252.753458            1.454267   \n",
      "19  8.912797e+00   8.449890  2.032951e+02   221.865938            1.202895   \n",
      "20  2.043199e+00   1.556768           inf          inf            1.177333   \n",
      "21  3.916016e+00   4.305651  1.652922e+02   201.338821            0.688474   \n",
      "22  1.107105e+00   1.068884           inf          inf            0.831335   \n",
      "23  4.717875e+00   4.151627  2.210466e+02   163.960239            1.236203   \n",
      "24  1.085614e+00   1.143048           inf          inf            1.154319   \n",
      "25  6.016082e+00   7.756849  1.834858e+02   301.084620            1.354676   \n",
      "26  1.617850e+00   1.629194  2.627460e+02          inf            1.370217   \n",
      "27  8.226251e+00   6.686363  1.576713e+02   168.691785            1.020919   \n",
      "28  2.102642e+00   1.972198           inf          inf            1.117362   \n",
      "29  6.076653e+00   6.080545  1.355057e+02   141.322949            0.889760   \n",
      "30  1.388340e+00   1.127633           inf   187.601555            0.930417   \n",
      "31  8.680069e+00   8.244214  3.805587e+02   254.645870            1.361278   \n",
      "32  2.007924e+00   2.071957           inf          inf            1.260970   \n",
      "33  4.700373e+00   4.887631  1.960362e+02   146.242241            0.698901   \n",
      "34  1.175919e+00   1.203698           inf          inf            0.688544   \n",
      "35  6.621839e+00   7.948243  1.685926e+02   178.611896            1.374347   \n",
      "36  1.577257e+00   1.564686           inf          inf            1.496675   \n",
      "37  5.666792e+00   5.795873  4.111380e+02   225.655801            0.888406   \n",
      "38  1.469159e+00   1.444288           inf          inf            0.762224   \n",
      "39  5.460557e+00   6.447250  1.984407e+02   366.183674            0.790538   \n",
      "40  1.335792e+00   1.361199           inf          inf            0.798246   \n",
      "41  7.968427e+00   7.782896  1.620793e+02   168.619430            1.260403   \n",
      "42  1.662654e+00   1.634251           inf          inf            1.165913   \n",
      "43  8.703497e+00  11.327972  3.393194e+02   288.249951            1.002907   \n",
      "44  2.195169e+00   1.994698           inf          inf            0.891742   \n",
      "45  5.616267e+00   5.559528  1.703692e+02          inf            0.912562   \n",
      "46  1.450210e+00   1.440866           inf          inf            0.849156   \n",
      "47  5.409063e+00   4.779936  2.931042e+02   121.399452            0.627648   \n",
      "48  1.292249e+00   1.168050           inf          inf            0.636736   \n",
      "49  2.333534e+00   4.347271  1.637370e+03   125.981010            0.816208   \n",
      "50  8.110869e-01   0.778913  2.633176e+02   135.657784            0.424894   \n",
      "51  5.284179e+00   5.909988  2.402605e+02  6748.536584            1.072791   \n",
      "52  1.426295e+00   1.328135           inf          inf            1.033775   \n",
      "53  7.684591e+00   9.267410  2.127264e+02   148.820518            1.057819   \n",
      "54  2.134791e+00   2.140259           inf          inf            0.816188   \n",
      "55  5.359864e+00   5.429668  3.615171e+02  1543.626359            0.579865   \n",
      "56  1.248602e+00   1.272676           inf          inf            0.729718   \n",
      "57  5.412246e+00   5.119586  1.378647e+02   105.654075            0.923829   \n",
      "58  1.504301e+00   1.394357           inf          inf            0.944082   \n",
      "59  7.378829e+00   8.920271  2.443950e+03   356.753651            0.893878   \n",
      "60  1.649986e+00   1.712609           inf          inf            0.803158   \n",
      "\n",
      "    HML_coefficient  SMB_coefficient  \n",
      "1         -0.082510        -0.186499  \n",
      "2          0.059451        -0.343714  \n",
      "3          0.558478        -0.259834  \n",
      "4          0.442888        -0.453846  \n",
      "5         -0.815713         0.165762  \n",
      "6         -0.879473        -0.048151  \n",
      "7          0.278956         0.267389  \n",
      "8          0.083417        -0.074617  \n",
      "9          0.522312        -0.116154  \n",
      "10         0.342487         0.048585  \n",
      "11         0.179445        -0.212530  \n",
      "12         0.287167        -0.409742  \n",
      "13        -0.888821         0.083696  \n",
      "14        -0.850917        -0.068252  \n",
      "15        -0.009305        -0.523502  \n",
      "16        -0.220142        -0.602479  \n",
      "17        -0.515941        -1.949111  \n",
      "18         0.515769         0.080760  \n",
      "19         0.012186         0.066349  \n",
      "20        -0.055655        -0.125023  \n",
      "21         0.183583        -0.315073  \n",
      "22         0.251454        -0.482093  \n",
      "23         0.208770        -0.370300  \n",
      "24         0.153672        -0.409372  \n",
      "25         0.018762         0.206774  \n",
      "26         0.425565        -0.233946  \n",
      "27        -0.208330         0.094675  \n",
      "28        -0.161293        -0.124695  \n",
      "29        -0.161053        -0.230138  \n",
      "30        -0.458734        -0.400448  \n",
      "31        -0.580593        -0.018677  \n",
      "32        -0.723284        -0.181476  \n",
      "33        -0.393910        -0.668368  \n",
      "34        -0.376653        -0.585630  \n",
      "35         0.916949         0.100859  \n",
      "36         1.134682        -0.251804  \n",
      "37        -0.000981        -0.355178  \n",
      "38        -0.264514        -0.440930  \n",
      "39        -0.255665        -0.672055  \n",
      "40        -0.225830        -0.447791  \n",
      "41        -0.848532        -0.392276  \n",
      "42        -0.711821        -0.302253  \n",
      "43        -0.112615        -0.057824  \n",
      "44         0.021632         0.137728  \n",
      "45        -0.406847        -0.734022  \n",
      "46        -0.254517        -0.474184  \n",
      "47        -0.100395        -0.268551  \n",
      "48        -0.121585        -0.509419  \n",
      "49         0.434194        -0.762593  \n",
      "50         0.579598        -0.441142  \n",
      "51         0.039943        -0.047668  \n",
      "52         0.106626        -0.092885  \n",
      "53         0.264304        -0.265744  \n",
      "54         0.051484        -0.165293  \n",
      "55        -0.038831        -0.687550  \n",
      "56         0.043971        -0.434893  \n",
      "57        -0.906714        -0.439370  \n",
      "58         0.031750        -0.090777  \n",
      "59        -0.188987         0.067501  \n",
      "60        -0.357993        -0.323794  \n"
     ]
    }
   ],
   "source": [
    "print(final_result)"
   ]
  },
  {
   "cell_type": "markdown",
   "metadata": {},
   "source": [
    "### Outputting the result to a csv"
   ]
  },
  {
   "cell_type": "code",
   "execution_count": 20,
   "metadata": {
    "collapsed": true
   },
   "outputs": [],
   "source": [
    "final_result.to_csv('FAMAResult.csv',index=False)"
   ]
  },
  {
   "cell_type": "code",
   "execution_count": null,
   "metadata": {
    "collapsed": true
   },
   "outputs": [],
   "source": []
  }
 ],
 "metadata": {
  "kernelspec": {
   "display_name": "Python 3",
   "language": "python",
   "name": "python3"
  },
  "language_info": {
   "codemirror_mode": {
    "name": "ipython",
    "version": 3
   },
   "file_extension": ".py",
   "mimetype": "text/x-python",
   "name": "python",
   "nbconvert_exporter": "python",
   "pygments_lexer": "ipython3",
   "version": "3.6.3"
  }
 },
 "nbformat": 4,
 "nbformat_minor": 2
}
